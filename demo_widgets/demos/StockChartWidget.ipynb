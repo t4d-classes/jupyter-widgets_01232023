{
 "cells": [
  {
   "cell_type": "code",
   "execution_count": 1,
   "id": "fb75a94c-6a42-40ff-a419-ea71b1a38661",
   "metadata": {},
   "outputs": [],
   "source": [
    "from demo_widgets import StockChartWidget"
   ]
  },
  {
   "cell_type": "code",
   "execution_count": 2,
   "id": "c87ac8c6-a03b-4d36-a226-ab228ffd294e",
   "metadata": {},
   "outputs": [
    {
     "data": {
      "application/vnd.jupyter.widget-view+json": {
       "model_id": "79adfa138f1948369b5c7e2dd6ab926a",
       "version_major": 2,
       "version_minor": 0
      },
      "text/plain": [
       "StockChartWidget(stock_data=[['2022-10-27', '2022-10-28', '2022-10-31', '2022-11-01', '2022-11-02', '2022-11-0…"
      ]
     },
     "execution_count": 2,
     "metadata": {},
     "output_type": "execute_result"
    }
   ],
   "source": [
    "StockChartWidget()"
   ]
  },
  {
   "cell_type": "code",
   "execution_count": 3,
   "id": "21eac8aa-857a-4d25-ae5c-3aa596005521",
   "metadata": {},
   "outputs": [
    {
     "data": {
      "application/vnd.jupyter.widget-view+json": {
       "model_id": "ad4c7337c56e4c0f83c79eecdf3214e9",
       "version_major": 2,
       "version_minor": 0
      },
      "text/plain": [
       "StockChartWidget(stock_data=[['2022-10-27', '2022-10-28', '2022-10-31', '2022-11-01', '2022-11-02', '2022-11-0…"
      ]
     },
     "execution_count": 3,
     "metadata": {},
     "output_type": "execute_result"
    }
   ],
   "source": [
    "StockChartWidget(stock_symbol='MSFT')"
   ]
  },
  {
   "cell_type": "code",
   "execution_count": null,
   "id": "0898bbf6-d79e-4f3c-b35a-284225b43e97",
   "metadata": {},
   "outputs": [],
   "source": []
  }
 ],
 "metadata": {
  "kernelspec": {
   "display_name": "demo_widgets",
   "language": "python",
   "name": "demo_widgets"
  },
  "language_info": {
   "codemirror_mode": {
    "name": "ipython",
    "version": 3
   },
   "file_extension": ".py",
   "mimetype": "text/x-python",
   "name": "python",
   "nbconvert_exporter": "python",
   "pygments_lexer": "ipython3",
   "version": "3.11.0"
  }
 },
 "nbformat": 4,
 "nbformat_minor": 5
}
