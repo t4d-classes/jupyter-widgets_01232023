{
 "cells": [
  {
   "cell_type": "code",
   "execution_count": 1,
   "id": "1b8a8e6f-3a8c-494e-97a8-03a4d639e640",
   "metadata": {},
   "outputs": [],
   "source": [
    "from demo_widgets import StockLookupWidget"
   ]
  },
  {
   "cell_type": "code",
   "execution_count": 2,
   "id": "5c842057-20a2-4aca-b6cc-34688fdb1008",
   "metadata": {},
   "outputs": [
    {
     "data": {
      "application/vnd.jupyter.widget-view+json": {
       "model_id": "7afc8028eb2e4717b2ad4a96dc05ff17",
       "version_major": 2,
       "version_minor": 0
      },
      "text/plain": [
       "StockLookupWidget()"
      ]
     },
     "metadata": {},
     "output_type": "display_data"
    }
   ],
   "source": [
    "stock_lookup_widget = StockLookupWidget()\n",
    "\n",
    "display(stock_lookup_widget)"
   ]
  },
  {
   "cell_type": "code",
   "execution_count": null,
   "id": "e4ef2a8e-9f79-4e6e-8f9d-ef91673a1619",
   "metadata": {},
   "outputs": [],
   "source": []
  }
 ],
 "metadata": {
  "kernelspec": {
   "display_name": "demo_widgets",
   "language": "python",
   "name": "demo_widgets"
  },
  "language_info": {
   "codemirror_mode": {
    "name": "ipython",
    "version": 3
   },
   "file_extension": ".py",
   "mimetype": "text/x-python",
   "name": "python",
   "nbconvert_exporter": "python",
   "pygments_lexer": "ipython3",
   "version": "3.11.0"
  }
 },
 "nbformat": 4,
 "nbformat_minor": 5
}
