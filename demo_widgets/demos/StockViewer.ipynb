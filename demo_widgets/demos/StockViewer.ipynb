{
 "cells": [
  {
   "cell_type": "code",
   "execution_count": 1,
   "id": "f2673ab5-1400-40e9-a6a2-2613447c8f24",
   "metadata": {},
   "outputs": [],
   "source": [
    "import ipywidgets as widgets\n",
    "from demo_widgets import StockListWidget, StockChartWidget"
   ]
  },
  {
   "cell_type": "code",
   "execution_count": 2,
   "id": "0e2960a4-a4df-44e8-bc1b-d58a4e6225d9",
   "metadata": {},
   "outputs": [],
   "source": [
    "stock_days_widget = widgets.IntSlider(\n",
    "    value=90,\n",
    "    min=1,\n",
    "    max=90,\n",
    "    step=10,\n",
    ")\n",
    "\n",
    "stock_list_widget = StockListWidget(selected_stock_symbol='MSFT')\n",
    "\n",
    "stock_chart_widget = StockChartWidget(stock_symbol=stock_list_widget.selected_stock_symbol)\n",
    "\n",
    "stock_symbol_link = widgets.jslink(\n",
    "    (stock_list_widget, 'selected_stock_symbol'),\n",
    "    (stock_chart_widget, 'stock_symbol'),\n",
    ")\n",
    "stock_days_link = widgets.jslink(\n",
    "    (stock_days_widget, 'value'),\n",
    "    (stock_chart_widget, 'stock_days'),\n",
    ")"
   ]
  },
  {
   "cell_type": "code",
   "execution_count": 3,
   "id": "ae2e466a-90e9-4024-8ff5-f062f258aa72",
   "metadata": {},
   "outputs": [
    {
     "data": {
      "application/vnd.jupyter.widget-view+json": {
       "model_id": "e915721be1cf44db8df6ee32ed33cc92",
       "version_major": 2,
       "version_minor": 0
      },
      "text/plain": [
       "TwoByTwoLayout(children=(StockListWidget(layout=Layout(grid_area='top-left'), selected_stock_symbol='MSFT', st…"
      ]
     },
     "metadata": {},
     "output_type": "display_data"
    },
    {
     "data": {
      "application/vnd.jupyter.widget-view+json": {
       "model_id": "c7258907d7644ab588b533205518c1ab",
       "version_major": 2,
       "version_minor": 0
      },
      "text/plain": [
       "StockChartWidget(stock_data=[['2022-10-27', '2022-10-28', '2022-10-31', '2022-11-01', '2022-11-02', '2022-11-0…"
      ]
     },
     "metadata": {},
     "output_type": "display_data"
    }
   ],
   "source": [
    "# display(stock_list_widget)\n",
    "# display(stock_days_widget)\n",
    "\n",
    "\n",
    "display(widgets.TwoByTwoLayout(top_left=stock_list_widget, top_right=stock_days_widget))\n",
    "display(stock_chart_widget)"
   ]
  },
  {
   "cell_type": "code",
   "execution_count": null,
   "id": "9526e093-7632-49b2-8290-580a48946ea9",
   "metadata": {},
   "outputs": [],
   "source": []
  }
 ],
 "metadata": {
  "kernelspec": {
   "display_name": "demo_widgets",
   "language": "python",
   "name": "demo_widgets"
  },
  "language_info": {
   "codemirror_mode": {
    "name": "ipython",
    "version": 3
   },
   "file_extension": ".py",
   "mimetype": "text/x-python",
   "name": "python",
   "nbconvert_exporter": "python",
   "pygments_lexer": "ipython3",
   "version": "3.11.0"
  }
 },
 "nbformat": 4,
 "nbformat_minor": 5
}
