{
 "cells": [
  {
   "cell_type": "code",
   "execution_count": 1,
   "id": "f2673ab5-1400-40e9-a6a2-2613447c8f24",
   "metadata": {},
   "outputs": [],
   "source": [
    "import ipywidgets as widgets\n",
    "from demo_widgets import StockListWidget, StockChartWidget"
   ]
  },
  {
   "cell_type": "code",
   "execution_count": 2,
   "id": "0e2960a4-a4df-44e8-bc1b-d58a4e6225d9",
   "metadata": {},
   "outputs": [
    {
     "data": {
      "application/vnd.jupyter.widget-view+json": {
       "model_id": "3d06adde9a6949839677e24b6d55c42d",
       "version_major": 2,
       "version_minor": 0
      },
      "text/plain": [
       "IntSlider(value=90, max=90, min=1, step=10)"
      ]
     },
     "metadata": {},
     "output_type": "display_data"
    }
   ],
   "source": [
    "stock_days_widget = widgets.IntSlider(\n",
    "    value=90,\n",
    "    min=1,\n",
    "    max=90,\n",
    "    step=10,\n",
    ")\n",
    "\n",
    "display(stock_days_widget)"
   ]
  },
  {
   "cell_type": "code",
   "execution_count": 3,
   "id": "6d410b36-415a-4503-a3a0-039360c5fbd7",
   "metadata": {},
   "outputs": [
    {
     "data": {
      "application/vnd.jupyter.widget-view+json": {
       "model_id": "704176caaf884c6bb594d17b14e86ac4",
       "version_major": 2,
       "version_minor": 0
      },
      "text/plain": [
       "StockListWidget(stocks=[{'stock_symbol': 'AAPL', 'stock_price': 0}, {'stock_symbol': 'MSFT', 'stock_price': 0}…"
      ]
     },
     "metadata": {},
     "output_type": "display_data"
    }
   ],
   "source": [
    "stock_list_widget = StockListWidget()\n",
    "\n",
    "display(stock_list_widget)"
   ]
  },
  {
   "cell_type": "code",
   "execution_count": 4,
   "id": "8c1fe6d9-4505-4b4b-9ab3-0a620e792d06",
   "metadata": {},
   "outputs": [
    {
     "data": {
      "text/plain": [
       "'MSFT'"
      ]
     },
     "execution_count": 4,
     "metadata": {},
     "output_type": "execute_result"
    }
   ],
   "source": [
    "stock_list_widget.selected_stock_symbol"
   ]
  },
  {
   "cell_type": "code",
   "execution_count": 5,
   "id": "1539f143-1ed5-420f-b70f-417d3310ceb5",
   "metadata": {},
   "outputs": [
    {
     "data": {
      "application/vnd.jupyter.widget-view+json": {
       "model_id": "293778ea89074819ac4b39c999ade95d",
       "version_major": 2,
       "version_minor": 0
      },
      "text/plain": [
       "StockChartWidget(stock_data=[['2022-10-27', '2022-10-28', '2022-10-31', '2022-11-01', '2022-11-02', '2022-11-0…"
      ]
     },
     "metadata": {},
     "output_type": "display_data"
    }
   ],
   "source": [
    "stock_chart_widget = StockChartWidget(stock_symbol=stock_list_widget.selected_stock_symbol)\n",
    "\n",
    "display(stock_chart_widget)"
   ]
  },
  {
   "cell_type": "code",
   "execution_count": 6,
   "id": "0ec4f7c2-3119-4499-a2d2-33a2d2f0dec6",
   "metadata": {},
   "outputs": [],
   "source": [
    "stock_symbol_link = widgets.jslink(\n",
    "    (stock_list_widget, 'selected_stock_symbol'),\n",
    "    (stock_chart_widget, 'stock_symbol'),\n",
    ")\n",
    "stock_days_link = widgets.jslink(\n",
    "    (stock_days_widget, 'value'),\n",
    "    (stock_chart_widget, 'stock_days'),\n",
    ")"
   ]
  },
  {
   "cell_type": "code",
   "execution_count": null,
   "id": "ae2e466a-90e9-4024-8ff5-f062f258aa72",
   "metadata": {},
   "outputs": [],
   "source": []
  }
 ],
 "metadata": {
  "kernelspec": {
   "display_name": "demo_widgets",
   "language": "python",
   "name": "demo_widgets"
  },
  "language_info": {
   "codemirror_mode": {
    "name": "ipython",
    "version": 3
   },
   "file_extension": ".py",
   "mimetype": "text/x-python",
   "name": "python",
   "nbconvert_exporter": "python",
   "pygments_lexer": "ipython3",
   "version": "3.11.0"
  }
 },
 "nbformat": 4,
 "nbformat_minor": 5
}
