{
 "cells": [
  {
   "cell_type": "code",
   "execution_count": 1,
   "id": "f2673ab5-1400-40e9-a6a2-2613447c8f24",
   "metadata": {},
   "outputs": [],
   "source": [
    "from demo_widgets import StockListWidget"
   ]
  },
  {
   "cell_type": "code",
   "execution_count": 2,
   "id": "6d410b36-415a-4503-a3a0-039360c5fbd7",
   "metadata": {},
   "outputs": [
    {
     "data": {
      "application/vnd.jupyter.widget-view+json": {
       "model_id": "7e510fe901a34bcd96f09a5899df4f2d",
       "version_major": 2,
       "version_minor": 0
      },
      "text/plain": [
       "StockListWidget(stocks=[{'stock_symbol': 'AAPL', 'stock_price': 0}, {'stock_symbol': 'MSFT', 'stock_price': 0}…"
      ]
     },
     "metadata": {},
     "output_type": "display_data"
    }
   ],
   "source": [
    "stock_list_widget = StockListWidget()\n",
    "\n",
    "display(stock_list_widget)"
   ]
  },
  {
   "cell_type": "code",
   "execution_count": null,
   "id": "8c1fe6d9-4505-4b4b-9ab3-0a620e792d06",
   "metadata": {},
   "outputs": [],
   "source": []
  },
  {
   "cell_type": "code",
   "execution_count": null,
   "id": "1539f143-1ed5-420f-b70f-417d3310ceb5",
   "metadata": {},
   "outputs": [],
   "source": []
  }
 ],
 "metadata": {
  "kernelspec": {
   "display_name": "demo_widgets",
   "language": "python",
   "name": "demo_widgets"
  },
  "language_info": {
   "codemirror_mode": {
    "name": "ipython",
    "version": 3
   },
   "file_extension": ".py",
   "mimetype": "text/x-python",
   "name": "python",
   "nbconvert_exporter": "python",
   "pygments_lexer": "ipython3",
   "version": "3.11.0"
  }
 },
 "nbformat": 4,
 "nbformat_minor": 5
}
