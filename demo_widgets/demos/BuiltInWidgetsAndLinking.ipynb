{
 "cells": [
  {
   "cell_type": "code",
   "execution_count": 1,
   "id": "9c0fb1a3-dfeb-4d03-9487-f6099a9e93c3",
   "metadata": {},
   "outputs": [],
   "source": [
    "import ipywidgets as widgets"
   ]
  },
  {
   "cell_type": "code",
   "execution_count": 4,
   "id": "f308c37a-f6d7-4190-8e14-d6e6581c525b",
   "metadata": {},
   "outputs": [
    {
     "data": {
      "application/vnd.jupyter.widget-view+json": {
       "model_id": "3904452046274832adb8f3d75b8f9a03",
       "version_major": 2,
       "version_minor": 0
      },
      "text/plain": [
       "IntSlider(value=7, continuous_update=False, description='Test:', max=10)"
      ]
     },
     "metadata": {},
     "output_type": "display_data"
    }
   ],
   "source": [
    "w = widgets.IntSlider(\n",
    "    value=7,\n",
    "    min=0,\n",
    "    max=10,\n",
    "    step=1,\n",
    "    description='Test:',\n",
    "    disabled=False,\n",
    "    continuous_update=False,\n",
    "    orientation='horizontal',\n",
    "    readout=True,\n",
    "    readout_format='d'\n",
    ")\n",
    "\n",
    "display(w)"
   ]
  },
  {
   "cell_type": "code",
   "execution_count": 6,
   "id": "e6993df1-7f07-4747-8708-838151ee9338",
   "metadata": {},
   "outputs": [
    {
     "data": {
      "text/plain": [
       "4"
      ]
     },
     "execution_count": 6,
     "metadata": {},
     "output_type": "execute_result"
    }
   ],
   "source": [
    "w.value"
   ]
  },
  {
   "cell_type": "code",
   "execution_count": 7,
   "id": "98c6f741-dc8b-4ffb-ad82-aeed5d07fb2f",
   "metadata": {},
   "outputs": [],
   "source": [
    "w.value = 6"
   ]
  },
  {
   "cell_type": "code",
   "execution_count": 10,
   "id": "5a01d5c6-827a-4505-afc9-4c3c5215be8e",
   "metadata": {},
   "outputs": [
    {
     "data": {
      "application/vnd.jupyter.widget-view+json": {
       "model_id": "78e4d6f04e09417aabd318d40ed73ff1",
       "version_major": 2,
       "version_minor": 0
      },
      "text/plain": [
       "IntText(value=3, description='Integer:')"
      ]
     },
     "metadata": {},
     "output_type": "display_data"
    }
   ],
   "source": [
    "w2 = widgets.IntText(\n",
    "    value=3,\n",
    "    description='Integer:',\n",
    "    disabled=False   \n",
    ")\n",
    "\n",
    "display(w2)"
   ]
  },
  {
   "cell_type": "code",
   "execution_count": 11,
   "id": "870b496b-b47c-48b6-8893-5de1108ce0ce",
   "metadata": {},
   "outputs": [
    {
     "data": {
      "text/plain": [
       "3"
      ]
     },
     "execution_count": 11,
     "metadata": {},
     "output_type": "execute_result"
    }
   ],
   "source": [
    "w2.value"
   ]
  },
  {
   "cell_type": "code",
   "execution_count": 12,
   "id": "dcd4de20-7940-4ca9-9618-f413e04ae729",
   "metadata": {},
   "outputs": [],
   "source": [
    "a_link = widgets.jslink((w, 'value'), (w2, 'value'))"
   ]
  },
  {
   "cell_type": "code",
   "execution_count": null,
   "id": "2a43c192-04aa-4a60-9c14-fb01349f9f2e",
   "metadata": {},
   "outputs": [],
   "source": []
  }
 ],
 "metadata": {
  "kernelspec": {
   "display_name": "demo_widgets",
   "language": "python",
   "name": "demo_widgets"
  },
  "language_info": {
   "codemirror_mode": {
    "name": "ipython",
    "version": 3
   },
   "file_extension": ".py",
   "mimetype": "text/x-python",
   "name": "python",
   "nbconvert_exporter": "python",
   "pygments_lexer": "ipython3",
   "version": "3.11.0"
  }
 },
 "nbformat": 4,
 "nbformat_minor": 5
}
